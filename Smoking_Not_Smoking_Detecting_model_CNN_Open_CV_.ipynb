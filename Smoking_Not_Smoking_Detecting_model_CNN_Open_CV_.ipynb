{
  "nbformat": 4,
  "nbformat_minor": 0,
  "metadata": {
    "colab": {
      "provenance": [],
      "gpuType": "T4",
      "mount_file_id": "1yXAtUlaNtT7QjWao6thLWBTnfcFtkZ-x",
      "authorship_tag": "ABX9TyM6oW8f8uwigFe7AK+gRS9/",
      "include_colab_link": true
    },
    "kernelspec": {
      "name": "python3",
      "display_name": "Python 3"
    },
    "language_info": {
      "name": "python"
    },
    "accelerator": "GPU"
  },
  "cells": [
    {
      "cell_type": "markdown",
      "metadata": {
        "id": "view-in-github",
        "colab_type": "text"
      },
      "source": [
        "<a href=\"https://colab.research.google.com/github/ShibuGitB/Project-2/blob/main/Smoking_Not_Smoking_Detecting_model_CNN_Open_CV_.ipynb\" target=\"_parent\"><img src=\"https://colab.research.google.com/assets/colab-badge.svg\" alt=\"Open In Colab\"/></a>"
      ]
    },
    {
      "cell_type": "code",
      "source": [
        "import os\n",
        "from skimage.io import imread\n",
        "from skimage.transform import resize\n",
        "import numpy as np\n",
        "from keras.models import Sequential\n",
        "from keras.layers import Conv2D,MaxPool2D,Flatten,Dense\n",
        "import warnings"
      ],
      "metadata": {
        "id": "se6YPfH0IZEN"
      },
      "execution_count": null,
      "outputs": []
    },
    {
      "cell_type": "code",
      "source": [
        "folderpath=\"/content/drive/MyDrive/smoking-not smoking/training\"\n",
        "\n",
        "x_train=[]\n",
        "y_train=[]\n",
        "\n",
        "categories=[\"no smoking\",\"smoking\"]\n",
        "\n",
        "for i in categories :\n",
        "\n",
        "  filepath=os.path.join(folderpath,i)\n",
        "  filefiles=os.listdir(filepath)\n",
        "\n",
        "  for j in filefiles :\n",
        "\n",
        "    imgpath=os.path.join(filepath,j)\n",
        "    imgread=imread(imgpath)\n",
        "    imgresize=resize(imgread,(150,150,3))\n",
        "    x_train.append(imgresize)\n",
        "    y_train.append(categories.index(i))"
      ],
      "metadata": {
        "id": "jDUXVfz4IBHh"
      },
      "execution_count": null,
      "outputs": []
    },
    {
      "cell_type": "code",
      "source": [
        "folderpath=\"/content/drive/MyDrive/smoking-not smoking/testing\"\n",
        "\n",
        "x_test=[]\n",
        "y_test=[]\n",
        "\n",
        "categories=[\"no smoking\",\"smoking\"]\n",
        "\n",
        "for i in categories :\n",
        "\n",
        "  filepath=os.path.join(folderpath,i)\n",
        "  filefiles=os.listdir(filepath)\n",
        "\n",
        "  for j in filefiles :\n",
        "\n",
        "    imgpath=os.path.join(filepath,j)\n",
        "    imgread=imread(imgpath)\n",
        "    imgresize=resize(imgread,(150,150,3))\n",
        "    x_test.append(imgresize)\n",
        "    y_test.append(categories.index(i))"
      ],
      "metadata": {
        "id": "qAP4sIWdJpfo"
      },
      "execution_count": null,
      "outputs": []
    },
    {
      "cell_type": "code",
      "source": [
        "x_train=np.array(x_train)\n",
        "x_test=np.array(x_test)\n",
        "y_train=np.array(y_train)\n",
        "y_test=np.array(y_test)"
      ],
      "metadata": {
        "id": "LYBU0ghTQyMX"
      },
      "execution_count": null,
      "outputs": []
    },
    {
      "cell_type": "code",
      "source": [
        "z=Sequential()"
      ],
      "metadata": {
        "id": "os6wxiH_RYkn"
      },
      "execution_count": null,
      "outputs": []
    },
    {
      "cell_type": "code",
      "source": [
        "z.add(Conv2D(32,(3,3),input_shape=(150,150,3),activation=\"relu\"))\n",
        "z.add(MaxPool2D(3,3))\n",
        "z.add(Flatten())\n",
        "z.add(Dense(100,activation=\"relu\"))\n",
        "z.add(Dense(2,activation=\"softmax\"))"
      ],
      "metadata": {
        "id": "pS1i4I37RQ8R"
      },
      "execution_count": null,
      "outputs": []
    },
    {
      "cell_type": "code",
      "source": [
        "z.compile(optimizer=\"adam\",loss=\"sparse_categorical_crossentropy\",metrics=[\"accuracy\"])"
      ],
      "metadata": {
        "id": "rEW55PdqTm1o"
      },
      "execution_count": null,
      "outputs": []
    },
    {
      "cell_type": "code",
      "source": [
        "z.fit(x_train,y_train,epochs=10,batch_size=10)"
      ],
      "metadata": {
        "colab": {
          "base_uri": "https://localhost:8080/"
        },
        "id": "lI3SQO14T1gT",
        "outputId": "6dfde8ec-19fc-4959-fc48-6d5f309742ea"
      },
      "execution_count": null,
      "outputs": [
        {
          "output_type": "stream",
          "name": "stdout",
          "text": [
            "Epoch 1/10\n",
            "73/73 [==============================] - 1s 9ms/step - loss: 9.6626e-05 - accuracy: 1.0000\n",
            "Epoch 2/10\n",
            "73/73 [==============================] - 1s 7ms/step - loss: 8.9412e-05 - accuracy: 1.0000\n",
            "Epoch 3/10\n",
            "73/73 [==============================] - 0s 7ms/step - loss: 8.2682e-05 - accuracy: 1.0000\n",
            "Epoch 4/10\n",
            "73/73 [==============================] - 0s 7ms/step - loss: 7.7096e-05 - accuracy: 1.0000\n",
            "Epoch 5/10\n",
            "73/73 [==============================] - 0s 7ms/step - loss: 7.2013e-05 - accuracy: 1.0000\n",
            "Epoch 6/10\n",
            "73/73 [==============================] - 0s 6ms/step - loss: 6.7293e-05 - accuracy: 1.0000\n",
            "Epoch 7/10\n",
            "73/73 [==============================] - 0s 6ms/step - loss: 6.3108e-05 - accuracy: 1.0000\n",
            "Epoch 8/10\n",
            "73/73 [==============================] - 0s 7ms/step - loss: 5.9199e-05 - accuracy: 1.0000\n",
            "Epoch 9/10\n",
            "73/73 [==============================] - 0s 6ms/step - loss: 5.5820e-05 - accuracy: 1.0000\n",
            "Epoch 10/10\n",
            "73/73 [==============================] - 0s 7ms/step - loss: 5.1977e-05 - accuracy: 1.0000\n"
          ]
        },
        {
          "output_type": "execute_result",
          "data": {
            "text/plain": [
              "<keras.src.callbacks.History at 0x7e37481c2c20>"
            ]
          },
          "metadata": {},
          "execution_count": 18
        }
      ]
    },
    {
      "cell_type": "code",
      "source": [
        "z.evaluate(x_test,y_test)"
      ],
      "metadata": {
        "colab": {
          "base_uri": "https://localhost:8080/"
        },
        "id": "a9-vVuu9WVkZ",
        "outputId": "2d48f360-e9a5-4baf-a39f-eecca081c119"
      },
      "execution_count": null,
      "outputs": [
        {
          "output_type": "stream",
          "name": "stdout",
          "text": [
            "7/7 [==============================] - 0s 6ms/step - loss: 1.1511 - accuracy: 0.7500\n"
          ]
        },
        {
          "output_type": "execute_result",
          "data": {
            "text/plain": [
              "[1.1511211395263672, 0.75]"
            ]
          },
          "metadata": {},
          "execution_count": 19
        }
      ]
    },
    {
      "cell_type": "code",
      "source": [
        "warnings.filterwarnings(\"ignore\")"
      ],
      "metadata": {
        "id": "-XmKOLlxkp-I"
      },
      "execution_count": null,
      "outputs": []
    },
    {
      "cell_type": "code",
      "source": [
        "z.save(\"alert model.h5\")"
      ],
      "metadata": {
        "id": "24m6H4vlFa4G"
      },
      "execution_count": null,
      "outputs": []
    }
  ]
}