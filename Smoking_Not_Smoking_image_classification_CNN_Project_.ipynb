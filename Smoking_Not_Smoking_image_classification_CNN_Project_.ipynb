{
  "nbformat": 4,
  "nbformat_minor": 0,
  "metadata": {
    "colab": {
      "provenance": [],
      "gpuType": "T4",
      "mount_file_id": "1yXAtUlaNtT7QjWao6thLWBTnfcFtkZ-x",
      "authorship_tag": "ABX9TyP/+Ls6tk3OwMp1urq3u+Ju",
      "include_colab_link": true
    },
    "kernelspec": {
      "name": "python3",
      "display_name": "Python 3"
    },
    "language_info": {
      "name": "python"
    },
    "accelerator": "GPU"
  },
  "cells": [
    {
      "cell_type": "markdown",
      "metadata": {
        "id": "view-in-github",
        "colab_type": "text"
      },
      "source": [
        "<a href=\"https://colab.research.google.com/github/ShibuGitB/Project-2/blob/main/Smoking_Not_Smoking_image_classification_CNN_Project_.ipynb\" target=\"_parent\"><img src=\"https://colab.research.google.com/assets/colab-badge.svg\" alt=\"Open In Colab\"/></a>"
      ]
    },
    {
      "cell_type": "code",
      "source": [
        "import os\n",
        "from skimage.io import imread\n",
        "from skimage.transform import resize"
      ],
      "metadata": {
        "id": "se6YPfH0IZEN"
      },
      "execution_count": 1,
      "outputs": []
    },
    {
      "cell_type": "code",
      "source": [
        "folderpath=\"/content/drive/MyDrive/smoking-not smoking/training\"\n",
        "\n",
        "x_train=[]\n",
        "y_train=[]\n",
        "\n",
        "categories=[\"no smoking\",\"smoking\"]\n",
        "\n",
        "for i in categories :\n",
        "\n",
        "  filepath=os.path.join(folderpath,i)\n",
        "  filefiles=os.listdir(filepath)\n",
        "\n",
        "  for j in filefiles :\n",
        "\n",
        "    imgpath=os.path.join(filepath,j)\n",
        "    imgread=imread(imgpath)\n",
        "    imgresize=resize(imgread,(150,150,3))\n",
        "    x_train.append(imgresize)\n",
        "    y_train.append(categories.index(i))"
      ],
      "metadata": {
        "id": "jDUXVfz4IBHh"
      },
      "execution_count": 2,
      "outputs": []
    },
    {
      "cell_type": "code",
      "source": [
        "folderpath=\"/content/drive/MyDrive/smoking-not smoking/testing\"\n",
        "\n",
        "x_test=[]\n",
        "y_test=[]\n",
        "\n",
        "categories=[\"no smoking\",\"smoking\"]\n",
        "\n",
        "for i in categories :\n",
        "\n",
        "  filepath=os.path.join(folderpath,i)\n",
        "  filefiles=os.listdir(filepath)\n",
        "\n",
        "  for j in filefiles :\n",
        "\n",
        "    imgpath=os.path.join(filepath,j)\n",
        "    imgread=imread(imgpath)\n",
        "    imgresize=resize(imgread,(150,150,3))\n",
        "    x_test.append(imgresize)\n",
        "    y_test.append(categories.index(i))"
      ],
      "metadata": {
        "id": "qAP4sIWdJpfo"
      },
      "execution_count": 3,
      "outputs": []
    },
    {
      "cell_type": "code",
      "source": [
        "import numpy as np\n",
        "\n",
        "x_train=np.array(x_train)\n",
        "x_test=np.array(x_test)\n",
        "y_train=np.array(y_train)\n",
        "y_test=np.array(y_test)"
      ],
      "metadata": {
        "id": "LYBU0ghTQyMX"
      },
      "execution_count": 4,
      "outputs": []
    },
    {
      "cell_type": "code",
      "source": [
        "x_train.shape"
      ],
      "metadata": {
        "colab": {
          "base_uri": "https://localhost:8080/"
        },
        "id": "J8M0YKhAYinZ",
        "outputId": "40094250-34a9-40b8-85ea-36f257094034"
      },
      "execution_count": 5,
      "outputs": [
        {
          "output_type": "execute_result",
          "data": {
            "text/plain": [
              "(730, 150, 150, 3)"
            ]
          },
          "metadata": {},
          "execution_count": 5
        }
      ]
    },
    {
      "cell_type": "code",
      "source": [
        "from keras.models import Sequential\n",
        "z=Sequential()"
      ],
      "metadata": {
        "id": "os6wxiH_RYkn"
      },
      "execution_count": 6,
      "outputs": []
    },
    {
      "cell_type": "code",
      "source": [
        "from keras.layers import Conv2D,MaxPool2D,Flatten,Dense\n",
        "\n",
        "z.add(Conv2D(32,(3,3),input_shape=(150,150,3),activation=\"relu\"))\n",
        "z.add(MaxPool2D(3,3))\n",
        "z.add(Flatten())\n",
        "z.add(Dense(100,activation=\"relu\"))\n",
        "z.add(Dense(1,activation=\"sigmoid\"))"
      ],
      "metadata": {
        "id": "pS1i4I37RQ8R"
      },
      "execution_count": 7,
      "outputs": []
    },
    {
      "cell_type": "code",
      "source": [
        "z.compile(optimizer=\"adam\",loss=\"binary_crossentropy\",metrics=[\"accuracy\"])"
      ],
      "metadata": {
        "id": "rEW55PdqTm1o"
      },
      "execution_count": 8,
      "outputs": []
    },
    {
      "cell_type": "code",
      "source": [
        "z.fit(x_train,y_train,epochs=5,batch_size=10)"
      ],
      "metadata": {
        "colab": {
          "base_uri": "https://localhost:8080/"
        },
        "id": "lI3SQO14T1gT",
        "outputId": "0c4088fc-22f4-473d-cf7e-e84d716c29ac"
      },
      "execution_count": 9,
      "outputs": [
        {
          "output_type": "stream",
          "name": "stdout",
          "text": [
            "Epoch 1/5\n",
            "73/73 [==============================] - 6s 8ms/step - loss: 1.0776 - accuracy: 0.6178\n",
            "Epoch 2/5\n",
            "73/73 [==============================] - 0s 6ms/step - loss: 0.5300 - accuracy: 0.7397\n",
            "Epoch 3/5\n",
            "73/73 [==============================] - 0s 7ms/step - loss: 0.3959 - accuracy: 0.8260\n",
            "Epoch 4/5\n",
            "73/73 [==============================] - 0s 7ms/step - loss: 0.2752 - accuracy: 0.8945\n",
            "Epoch 5/5\n",
            "73/73 [==============================] - 0s 7ms/step - loss: 0.1493 - accuracy: 0.9671\n"
          ]
        },
        {
          "output_type": "execute_result",
          "data": {
            "text/plain": [
              "<keras.src.callbacks.History at 0x7b1e68771870>"
            ]
          },
          "metadata": {},
          "execution_count": 9
        }
      ]
    },
    {
      "cell_type": "code",
      "source": [
        "z.evaluate(x_test,y_test)"
      ],
      "metadata": {
        "colab": {
          "base_uri": "https://localhost:8080/"
        },
        "id": "a9-vVuu9WVkZ",
        "outputId": "31ca5cd2-45fc-41a9-b844-497cec922055"
      },
      "execution_count": 10,
      "outputs": [
        {
          "output_type": "stream",
          "name": "stdout",
          "text": [
            "7/7 [==============================] - 0s 7ms/step - loss: 0.6576 - accuracy: 0.6741\n"
          ]
        },
        {
          "output_type": "execute_result",
          "data": {
            "text/plain": [
              "[0.6576194763183594, 0.6741071343421936]"
            ]
          },
          "metadata": {},
          "execution_count": 10
        }
      ]
    },
    {
      "cell_type": "code",
      "source": [
        "img=\"/content/drive/MyDrive/ms-dhoni.jpeg\"\n",
        "\n",
        "imgread=imread(img)\n",
        "imgresize=resize(imgread,(150,150,3))\n",
        "img=imgresize.reshape(1,150,150,3)"
      ],
      "metadata": {
        "id": "qKJDZoLYYYRd"
      },
      "execution_count": 11,
      "outputs": []
    },
    {
      "cell_type": "code",
      "source": [
        "prediction=z.predict(img)\n",
        "\n",
        "if prediction>=0.5 :\n",
        "\n",
        "  print (\"the person in the image is smoking\")\n",
        "\n",
        "else :\n",
        "\n",
        "  print (\"the person in the image is not smoking\")"
      ],
      "metadata": {
        "colab": {
          "base_uri": "https://localhost:8080/"
        },
        "id": "ISzXLyvvYqR0",
        "outputId": "a890b048-16d2-416a-c5b8-399b1780b6a8"
      },
      "execution_count": 12,
      "outputs": [
        {
          "output_type": "stream",
          "name": "stdout",
          "text": [
            "1/1 [==============================] - 0s 146ms/step\n",
            "the person in the image is not smoking\n"
          ]
        }
      ]
    },
    {
      "cell_type": "code",
      "source": [
        "z.save(\"CNN model.h5\")"
      ],
      "metadata": {
        "colab": {
          "base_uri": "https://localhost:8080/"
        },
        "id": "24m6H4vlFa4G",
        "outputId": "2c2aad92-e14d-44d0-e193-aeba928a638b"
      },
      "execution_count": 13,
      "outputs": [
        {
          "output_type": "stream",
          "name": "stderr",
          "text": [
            "/usr/local/lib/python3.10/dist-packages/keras/src/engine/training.py:3103: UserWarning: You are saving your model as an HDF5 file via `model.save()`. This file format is considered legacy. We recommend using instead the native Keras format, e.g. `model.save('my_model.keras')`.\n",
            "  saving_api.save_model(\n"
          ]
        }
      ]
    }
  ]
}