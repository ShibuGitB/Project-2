{
 "cells": [
  {
   "cell_type": "markdown",
   "metadata": {},
   "source": [
    "_Smoking/Not Smoking Alert Generator_"
   ]
  },
  {
   "cell_type": "code",
   "execution_count": 1,
   "metadata": {},
   "outputs": [],
   "source": [
    "import cv2 \n",
    "import tensorflow as tf\n",
    "import datetime \n",
    "import numpy as np"
   ]
  },
  {
   "cell_type": "code",
   "execution_count": 2,
   "metadata": {},
   "outputs": [],
   "source": [
    "date=datetime.datetime.now() "
   ]
  },
  {
   "cell_type": "code",
   "execution_count": 3,
   "metadata": {},
   "outputs": [],
   "source": [
    "supportmessage=\"By knowing about the seriousness about the issue,\"\"\\n\"\"No one from the video were smoking in that area\"\"\\n\"\"Thank You.....\""
   ]
  },
  {
   "cell_type": "code",
   "execution_count": 4,
   "metadata": {},
   "outputs": [],
   "source": [
    "alertmessage=\"Hii TMT Enterprices\"\"\\n\"\"\\n\"\"This message from SECTION 307 control room,SECTION 307 is a smoking restricted area.\"\"\\n\"\"some of your employees were smoked at near of the SECTION 307 area at %s .\"\"\\n\"\"The place is so dangerous with the explosive items so please let them know about the seriousnes about the issue.\"\"\\n\"\"Next time we will never forgive any type of this activities towards that area! \"\"\\n\"\"\\n\"\"Thank you\"%date"
   ]
  },
  {
   "cell_type": "code",
   "execution_count": 5,
   "metadata": {},
   "outputs": [],
   "source": [
    "classes=[supportmessage,alertmessage] "
   ]
  },
  {
   "cell_type": "code",
   "execution_count": 6,
   "metadata": {},
   "outputs": [
    {
     "name": "stderr",
     "output_type": "stream",
     "text": [
      "c:\\Users\\shibu\\AppData\\Local\\Programs\\Python\\Python311\\Lib\\site-packages\\keras\\src\\layers\\convolutional\\base_conv.py:99: UserWarning: Do not pass an `input_shape`/`input_dim` argument to a layer. When using Sequential models, prefer using an `Input(shape)` object as the first layer in the model instead.\n",
      "  super().__init__(\n",
      "WARNING:absl:Compiled the loaded model, but the compiled metrics have yet to be built. `model.compile_metrics` will be empty until you train or evaluate the model.\n",
      "WARNING:absl:Error in loading the saved optimizer state. As a result, your model is starting with a freshly initialized optimizer.\n"
     ]
    }
   ],
   "source": [
    "model=tf.keras.models.load_model(\"alert model.h5\") "
   ]
  },
  {
   "cell_type": "code",
   "execution_count": 14,
   "metadata": {},
   "outputs": [
    {
     "name": "stdout",
     "output_type": "stream",
     "text": [
      "\u001b[1m1/1\u001b[0m \u001b[32m━━━━━━━━━━━━━━━━━━━━\u001b[0m\u001b[37m\u001b[0m \u001b[1m0s\u001b[0m 34ms/step\n"
     ]
    }
   ],
   "source": [
    "def generator(footage) : \n",
    "    \n",
    "    ftg=cv2.imread(footage) \n",
    "    rgb=cv2.cvtColor(ftg,cv2.COLOR_BGR2RGB) \n",
    "    resize=cv2.resize(rgb,(150,150))\n",
    "    reshape=resize.reshape(1,150,150,3) \n",
    "    \n",
    "    prediction=model.predict(reshape) \n",
    "    \n",
    "    position=np.argmax(prediction) \n",
    "    \n",
    "    alert=classes[position] \n",
    "    \n",
    "    return alert \n",
    "\n",
    "message=generator(r\"C:\\Users\\shibu\\OneDrive\\Documents\\Deep learning projects\\Smoking-Not Smoking Alert Generator CNN Project\\smoking image.jpg\")"
   ]
  },
  {
   "cell_type": "code",
   "execution_count": 15,
   "metadata": {},
   "outputs": [
    {
     "name": "stdout",
     "output_type": "stream",
     "text": [
      "Alert about your video is given below....\n",
      "\t\n",
      "Hii TMT Enterprices\n",
      "\n",
      "This message from SECTION 307 control room,SECTION 307 is a smoking restricted area.\n",
      "some of your employees were smoked at near of the SECTION 307 area at 2024-05-12 13:00:57.920592 .\n",
      "The place is so dangerous with the explosive items so please let them know about the seriousnes about the issue.\n",
      "Next time we will never forgive any type of this activities towards that area! \n",
      "\n",
      "Thank you\n"
     ]
    }
   ],
   "source": [
    "print (\"Alert about your video is given below....\") \n",
    "print (\"\\t\")\n",
    "print (message)"
   ]
  }
 ],
 "metadata": {
  "kernelspec": {
   "display_name": "Python 3",
   "language": "python",
   "name": "python3"
  },
  "language_info": {
   "codemirror_mode": {
    "name": "ipython",
    "version": 3
   },
   "file_extension": ".py",
   "mimetype": "text/x-python",
   "name": "python",
   "nbconvert_exporter": "python",
   "pygments_lexer": "ipython3",
   "version": "3.11.8"
  }
 },
 "nbformat": 4,
 "nbformat_minor": 2
}
